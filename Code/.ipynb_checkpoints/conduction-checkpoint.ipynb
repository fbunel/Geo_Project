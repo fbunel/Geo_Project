{
 "metadata": {
  "name": "",
  "signature": "sha256:f58d57eb1833abe61238109546900505e0a4eb969947a6c16aa79372498bdb2a"
 },
 "nbformat": 3,
 "nbformat_minor": 0,
 "worksheets": [
  {
   "cells": [
    {
     "cell_type": "code",
     "collapsed": false,
     "input": [
      "import numpy as np\n",
      "import matplotlib.pyplot as plt\n",
      "from scipy import sparse\n",
      "%matplotlib inline"
     ],
     "language": "python",
     "metadata": {},
     "outputs": [],
     "prompt_number": 1
    },
    {
     "cell_type": "code",
     "collapsed": false,
     "input": [
      "class terre:\n",
      "    def __init__(self,**kwargs):\n",
      "        #N nombre initial de particules\n",
      "        \n",
      "        dx, dt, lmbda, rho, Cp, R, r, dr, P = [1]*9\n",
      "        \n",
      "        taille = 1000\n",
      "        epsilon = 1/taille\n",
      "        r = np.linspace(epsilon, 1, num=taille).reshape((-1,1))\n",
      "        \n",
      "        \n",
      "        self.taille   = taille\n",
      "        self.epsilon  = epsilon\n",
      "        self.dx       = dx\n",
      "        self.dt       = dt\n",
      "        self.lmbda    = lmbda\n",
      "        self.rho      = rho\n",
      "        self.Cp       = Cp\n",
      "        self.R        = R\n",
      "        self.r        = r\n",
      "        self.dr       = dr\n",
      "        self.P        = P\n",
      "        \n",
      "        self.T0    = np.zeros(taille)\n",
      "        self.rho0  = np.zeros(taille)\n",
      "        \n",
      "        ones = np.ones(self.taille)\n",
      "        c = -self.dt*lmbd/(self.rho*self.cp*self.dx**2)\n",
      "\n",
      "        d1 = sparse.diag([-1*ones, 0*ones,1*ones],[-1,0,1])\n",
      "        d2 = sparse.diag([ 1*ones,-2*ones,1*ones],[-1,0,1])\n",
      "        \n",
      "        self.m = ones - d1*2*lmbda*dt/(r*dr*rh0*Cp*R*R) - d2*lmbda*dt/(dr*dr*rho*Cp*R*R)\n",
      "        \n",
      "    def step(self):\n",
      "        #mise a jour des pos\n",
      "        p[0:2]+=p[2:4]\n",
      "        \n",
      "        #detection des colisions:\n",
      "        dis = (p[0]-p[0][None,:])**2 + (p[1]-p[1][None,:])**2\n",
      "        \n",
      "        col = dis < p[5]**2\n",
      "        "
     ],
     "language": "python",
     "metadata": {},
     "outputs": []
    },
    {
     "cell_type": "code",
     "collapsed": false,
     "input": [
      "sparse.dia_matrix((, [0,1]), shape=(4, 4)).toarray()"
     ],
     "language": "python",
     "metadata": {},
     "outputs": [
      {
       "metadata": {},
       "output_type": "pyout",
       "prompt_number": 4,
       "text": [
        "array([[1, 2, 0, 0],\n",
        "       [0, 2, 3, 0],\n",
        "       [0, 0, 3, 0],\n",
        "       [0, 0, 0, 0]])"
       ]
      }
     ],
     "prompt_number": 4
    },
    {
     "cell_type": "code",
     "collapsed": false,
     "input": [
      "dx, dt, lmbda, rho, Cp, R, r, dr = [0]*8"
     ],
     "language": "python",
     "metadata": {},
     "outputs": [],
     "prompt_number": 9
    },
    {
     "cell_type": "code",
     "collapsed": false,
     "input": [],
     "language": "python",
     "metadata": {},
     "outputs": []
    }
   ],
   "metadata": {}
  }
 ]
}