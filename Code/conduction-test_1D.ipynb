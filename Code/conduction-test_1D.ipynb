{
 "metadata": {
  "name": "",
  "signature": "sha256:de47bcb75c5d8795c304c995c8f8ab7f6b5ee3d11d97568f817e72538b57ede2"
 },
 "nbformat": 3,
 "nbformat_minor": 0,
 "worksheets": [
  {
   "cells": [
    {
     "cell_type": "code",
     "collapsed": false,
     "input": [
      "import numpy as np\n",
      "import matplotlib.pyplot as plt\n",
      "from scipy import sparse\n",
      "from scipy.sparse  import linalg\n",
      "%matplotlib inline"
     ],
     "language": "python",
     "metadata": {},
     "outputs": [],
     "prompt_number": 2
    },
    {
     "cell_type": "code",
     "collapsed": false,
     "input": [
      "class terre:\n",
      "    def __init__(self,**kwargs):\n",
      "        #N nombre initial de particules\n",
      "        \n",
      "        R, x, dx, dt, lmbda, rho, Cp, P = [1]*8\n",
      "        \n",
      "        taille = 1000\n",
      "        #l'equation n'est pas definie en r=0 on decale donc le premier point\n",
      "        epsilon = 2/taille\n",
      "        r = np.linspace(epsilon, 1, num=taille).reshape((-1,1))\n",
      "        dr=1/taille\n",
      "        lmbda = 1000\n",
      "        c = dt/(rho*Cp)\n",
      "        \n",
      "        self.taille   = taille\n",
      "        self.epsilon  = epsilon  #l'equation n'est pas definie en r=0\n",
      "        self.R        = R    #rayon de la terre\n",
      "        self.x        = x    #rayon relatif [0,1], il intervient dans la formule du fait de la sym spherique\n",
      "        self.dx       = dx   #pas d'espace\n",
      "        self.dt       = dt    #pas de temps\n",
      "        self.lmbda    = lmbda #conductivit\u00e9 thermique\n",
      "        self.rho      = rho  #masse volumique\n",
      "        self.Cp       = Cp   #capait\u00e9 calorifique\n",
      "        self.P        = P    #terme de source (nucleaire)\n",
      "        self.c        = c\n",
      "        \n",
      "        \n",
      "        #condition initiales\n",
      "        self.T     = np.zeros(taille)\n",
      "        self.T[0:900] = 1\n",
      "        self.rho0  = np.zeros(taille)\n",
      "        self.P = np.zeros(taille)\n",
      "        #self.P[:20] = 1\n",
      "        \n",
      "        #quelques matrices de base pour constuire la matrice complete\n",
      "        ones = np.ones(self.taille)\n",
      "        eye = sparse.eye(taille)\n",
      "        d1 = sparse.dia_matrix(([-1*ones, 0*ones,1*ones],[-1,0,1]), shape=(taille, taille))\n",
      "        d2 = sparse.dia_matrix(([ 1*ones,-2*ones,1*ones],[-1,0,1]), shape=(taille, taille))\n",
      "        \n",
      "\n",
      "        #condition aux limites\n",
      "        d1 = d1.tocsr()\n",
      "        d2 = d2.tocsr()\n",
      "        d2[0,0]  = -2\n",
      "        d2[0,1]  =  2\n",
      "        d2[-1,-1] = -2\n",
      "        d2[-1,-2] =  2\n",
      "        \n",
      "        d1[0, 0]  =  2\n",
      "        d1[0,-1]  = -2\n",
      "        \n",
      "        d1[-1,-1] =  2\n",
      "        d1[-1,-2] = -2\n",
      "        \n",
      "        #on construit m, la matrice complete \n",
      "        self.m = eye - d2*lmbda*dt/(4*dx*dx*rho*Cp*R*R)\n",
      "        self.m = sparse.csc_matrix(self.m) #format csc plus efficace\n",
      "        self.lu = linalg.splu(self.m) #on pr\u00e9calcule la d\u00e9composition LU\n",
      "        \n",
      "        \n",
      "    def step(self):\n",
      "        self.T = self.lu.solve(self.T + self.c*self.P)\n",
      "    \n",
      "    def show(self):\n",
      "        d = self.T[None,:]*np.ones((100,1))\n",
      "\n",
      "        p = plt.imshow(d,cmap='plasma')\n",
      "        plt.clim()\n",
      "        plt.colorbar(orientation='horizontal')\n",
      "\n",
      "    def anim(self):\n",
      "        %matplotlib qt4\n",
      "        i=0\n",
      "        #while True:\n",
      "        for _ in range(1000):\n",
      "            if i == 0:\n",
      "                d = self.T[None,:]*np.ones((100,1))\n",
      "\n",
      "                p = plt.imshow(d,cmap='plasma')\n",
      "                plt.clim()\n",
      "                plt.colorbar(orientation='horizontal')\n",
      "                i=1\n",
      "            else:\n",
      "                i+=1\n",
      "                self.step()\n",
      "                d[:] = self.T[None,:]\n",
      "                p.set_data(d)\n",
      "                plt.title(\"frame {}, sum : {}\".format(i,self.T.sum()))\n",
      "\n",
      "            \n",
      "            plt.pause(0.05)\n",
      "      "
     ],
     "language": "python",
     "metadata": {},
     "outputs": [],
     "prompt_number": 3
    },
    {
     "cell_type": "code",
     "collapsed": false,
     "input": [
      "t = terre()\n",
      "\n",
      "t.anim()\n"
     ],
     "language": "python",
     "metadata": {},
     "outputs": [],
     "prompt_number": 18
    },
    {
     "cell_type": "code",
     "collapsed": false,
     "input": [
      "t = terre()\n",
      "\n",
      "t.step()\n",
      "t.show()"
     ],
     "language": "python",
     "metadata": {},
     "outputs": [
      {
       "ename": "NameError",
       "evalue": "name 'terre' is not defined",
       "output_type": "pyerr",
       "traceback": [
        "\u001b[0;31m---------------------------------------------------------------------------\u001b[0m\n\u001b[0;31mNameError\u001b[0m                                 Traceback (most recent call last)",
        "\u001b[0;32m<ipython-input-1-b000bd609c06>\u001b[0m in \u001b[0;36m<module>\u001b[0;34m()\u001b[0m\n\u001b[0;32m----> 1\u001b[0;31m \u001b[0mt\u001b[0m \u001b[0;34m=\u001b[0m \u001b[0mterre\u001b[0m\u001b[0;34m(\u001b[0m\u001b[0;34m)\u001b[0m\u001b[0;34m\u001b[0m\u001b[0m\n\u001b[0m\u001b[1;32m      2\u001b[0m \u001b[0;34m\u001b[0m\u001b[0m\n\u001b[1;32m      3\u001b[0m \u001b[0mt\u001b[0m\u001b[0;34m.\u001b[0m\u001b[0mstep\u001b[0m\u001b[0;34m(\u001b[0m\u001b[0;34m)\u001b[0m\u001b[0;34m\u001b[0m\u001b[0m\n\u001b[1;32m      4\u001b[0m \u001b[0mt\u001b[0m\u001b[0;34m.\u001b[0m\u001b[0mshow\u001b[0m\u001b[0;34m(\u001b[0m\u001b[0;34m)\u001b[0m\u001b[0;34m\u001b[0m\u001b[0m\n",
        "\u001b[0;31mNameError\u001b[0m: name 'terre' is not defined"
       ]
      }
     ],
     "prompt_number": 1
    },
    {
     "cell_type": "code",
     "collapsed": false,
     "input": [
      "t.step()\n",
      "t.show()"
     ],
     "language": "python",
     "metadata": {},
     "outputs": [],
     "prompt_number": 34
    },
    {
     "cell_type": "code",
     "collapsed": false,
     "input": [],
     "language": "python",
     "metadata": {},
     "outputs": [],
     "prompt_number": 33
    },
    {
     "cell_type": "code",
     "collapsed": false,
     "input": [],
     "language": "python",
     "metadata": {},
     "outputs": []
    },
    {
     "cell_type": "code",
     "collapsed": false,
     "input": [],
     "language": "python",
     "metadata": {},
     "outputs": [],
     "prompt_number": 33
    },
    {
     "cell_type": "code",
     "collapsed": false,
     "input": [],
     "language": "python",
     "metadata": {},
     "outputs": [],
     "prompt_number": 33
    },
    {
     "cell_type": "code",
     "collapsed": false,
     "input": [],
     "language": "python",
     "metadata": {},
     "outputs": []
    }
   ],
   "metadata": {}
  }
 ]
}