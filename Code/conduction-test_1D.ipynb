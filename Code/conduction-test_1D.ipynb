{
 "metadata": {
  "name": "",
  "signature": "sha256:28d7fb3dbb27c76d696fd60596a18119f074e01f2331bcbc80a122dc7f0a0ed8"
 },
 "nbformat": 3,
 "nbformat_minor": 0,
 "worksheets": [
  {
   "cells": [
    {
     "cell_type": "code",
     "collapsed": false,
     "input": [
      "import numpy as np\n",
      "import matplotlib.pyplot as plt\n",
      "from scipy import sparse\n",
      "from scipy.sparse  import linalg\n",
      "%matplotlib inline"
     ],
     "language": "python",
     "metadata": {},
     "outputs": [],
     "prompt_number": 4
    },
    {
     "cell_type": "code",
     "collapsed": false,
     "input": [
      "class terre_1D:\n",
      "    def __init__(self,**kwargs):\n",
      "        \n",
      "        try : \n",
      "            taille = kwargs[\"taille\"]\n",
      "            self.taille = taille\n",
      "        except : \n",
      "            taille = 1000\n",
      "            self.taille = taille\n",
      "        self.dt = 0.0001\n",
      "        self.dx = 1/taille\n",
      "        \n",
      "        self.T = np.zeros((self.taille))\n",
      "\n",
      "        #CI\n",
      "        self.T[0:int(self.taille/2)] = 1\n",
      "        \n",
      "        ones = np.ones(self.taille)\n",
      "        eye = sparse.eye(taille)\n",
      "        d1 = sparse.dia_matrix(([-1*ones, 0*ones,1*ones],[-1,0,1]), shape=(taille, taille))\n",
      "        d2 = sparse.dia_matrix(([ 1*ones,-2*ones,1*ones],[-2,0,2]), shape=(taille, taille))\n",
      "        #u = sparse.dia_matrix((1/r,[0]), shape=(taille, taille))\n",
      "        \n",
      "        \n",
      "\n",
      "        d1 = d1.tocsr()\n",
      "        d1[0,0:3]  = 0\n",
      "        d1[1,0:3]  = 0\n",
      "        d1[-1,-3:]  = 0\n",
      "        d1[-2,-4:]  = 0\n",
      "        d1[[0,1,-1,-2],[0,1,-1,-2]] = 1\n",
      "        d2 = d2.tocsr()\n",
      "        d2[0,0:3]  = 0\n",
      "        d2[1,0:4]  = 0\n",
      "        d2[-1,-3:]  = 0\n",
      "        d2[-2,-4:]  = 0\n",
      "        d2[[0,1,-1,-2],[0,1,-1,-2]] = 1\n",
      "        \n",
      "        d2 = d2.T\n",
      "\n",
      "        \n",
      "        #print(d1.toarray())\n",
      "        print(d2.toarray())\n",
      "        #on construit m, la matrice complete \n",
      "        self.m = eye - d2 * self.dt/(4*self.dx**2)\n",
      "        self.m = sparse.csc_matrix(self.m) #format csc plus efficace\n",
      "        self.lu = linalg.splu(self.m) #on pr\u00e9calcule la d\u00e9composition LU\n",
      "        \n",
      "        \n",
      "    def step(self):\n",
      "        #self.T = linalg.spsolve(self.m,self.T)\n",
      "        self.T = self.lu.solve(self.T)\n",
      "    \n",
      "    def show(self):\n",
      "        d = self.T[None,:]*np.ones((100,1))\n",
      "\n",
      "        p = plt.imshow(d,cmap='plasma')\n",
      "        plt.clim()\n",
      "        plt.colorbar(orientation='horizontal')\n",
      "    \n",
      "    def BC(self):\n",
      "        \n",
      "        c0 = 3 * self.lmbda * self.dt / (2 * self.rho * self.Cp * self.R**2 * self.dr**2)\n",
      "        self.T[1] = self.T[1] + self.P[1]*self.dt/(self.rho*self.Cp) + c0*(self.T[2]-self.T[1])\n",
      "        self.T[0] = self.T[1]\n",
      "        \n",
      "        c1 = (3*(1-2*self.dr)**2 / (R**2 * (1-(1-2*self.dr)**3) * self.dr) \n",
      "              * self.dt * self.lmbda/(self.rho * self.Cp))\n",
      "        c2 = (3 / (R * (1-(1-2*self.dr)**3) ) \n",
      "              * self.dt * self.sigma/(self.rho * self.Cp))\n",
      "        \n",
      "        self.T[-2] = self.T[-2] + self.P[-2]*self.dt/(self.rho*self.Cp) + c1*(self.T[-2]-self.T[-3]) + c2*(self.T[-2]**4 - self.T0**4)\n",
      "        self.T[-1] = self.T[-2]\n",
      "\n",
      "    def anim(self):\n",
      "        %matplotlib qt4\n",
      "        i=0\n",
      "        #while True:\n",
      "        for _ in range(1000):\n",
      "            if i == 0:\n",
      "                d = self.T[None,:]*np.ones((100,1))\n",
      "                p = plt.imshow(d,cmap='plasma')\n",
      "                plt.clim()\n",
      "                plt.colorbar(orientation='horizontal')\n",
      "                i=1\n",
      "                \n",
      "            else:\n",
      "                i+=1\n",
      "                self.step()\n",
      "                d[:] = self.T[None,:]\n",
      "                p.set_data(d)\n",
      "                plt.title(\"frame {}, sum : {}\".format(i,self.T.sum()))\n",
      "\n",
      "            \n",
      "            plt.pause(0.05)\n",
      "\n",
      "t = terre_1D()\n",
      "\n",
      "t.step()\n",
      "t.show()"
     ],
     "language": "python",
     "metadata": {},
     "outputs": [
      {
       "output_type": "stream",
       "stream": "stdout",
       "text": [
        "[[-2.  0.  1. ...,  0.  0.  0.]\n",
        " [ 0. -2.  0. ...,  0.  0.  0.]\n",
        " [ 1.  0. -2. ...,  0.  0.  0.]\n",
        " ..., \n",
        " [ 0.  0.  0. ..., -2.  0.  1.]\n",
        " [ 0.  0.  0. ...,  0. -2.  0.]\n",
        " [ 0.  0.  0. ...,  1.  0. -2.]]\n"
       ]
      },
      {
       "metadata": {},
       "output_type": "display_data",
       "png": "[encoded data removed]",
       "text": [
        "<matplotlib.figure.Figure at 0x7f1b7e691a20>"
       ]
      }
     ],
     "prompt_number": 38
    },
    {
     "cell_type": "code",
     "collapsed": false,
     "input": [
      "for i in range(4030):\n",
      "    t.step()\n",
      "t.show()"
     ],
     "language": "python",
     "metadata": {},
     "outputs": [
      {
       "metadata": {},
       "output_type": "display_data",
       "png": "[encoded data removed]",
       "text": [
        "<matplotlib.figure.Figure at 0x7f1b7e533080>"
       ]
      }
     ],
     "prompt_number": 39
    },
    {
     "cell_type": "code",
     "collapsed": false,
     "input": [
      "t = terre_1D()\n",
      "\n",
      "t.step()\n",
      "t.show()"
     ],
     "language": "python",
     "metadata": {},
     "outputs": [
      {
       "metadata": {},
       "output_type": "display_data",
       "png": "[encoded data removed]",
       "text": [
        "<matplotlib.figure.Figure at 0x7f1b7e5c3860>"
       ]
      }
     ],
     "prompt_number": 13
    },
    {
     "cell_type": "code",
     "collapsed": false,
     "input": [
      "t.step()\n",
      "t.show()"
     ],
     "language": "python",
     "metadata": {},
     "outputs": [],
     "prompt_number": 34
    },
    {
     "cell_type": "code",
     "collapsed": false,
     "input": [
      "indptr = np.array([0, 2, 3, 6])\n",
      "indices = np.array([0, 2, 2, 0, 1, 2])\n",
      "data = np.array([1, 2, 3, 4, 5, 6])\n",
      "s = sparse.csc_matrix((data, indices, indptr), shape=(3, 3))\n",
      "s.toarray()"
     ],
     "language": "python",
     "metadata": {},
     "outputs": [
      {
       "metadata": {},
       "output_type": "pyout",
       "prompt_number": 5,
       "text": [
        "array([[1, 0, 4],\n",
        "       [0, 0, 5],\n",
        "       [2, 3, 6]])"
       ]
      }
     ],
     "prompt_number": 5
    },
    {
     "cell_type": "code",
     "collapsed": false,
     "input": [
      "v = np.array([1,0,1])\n",
      "v"
     ],
     "language": "python",
     "metadata": {},
     "outputs": [
      {
       "metadata": {},
       "output_type": "pyout",
       "prompt_number": 9,
       "text": [
        "array([[1, 0, 1]])"
       ]
      }
     ],
     "prompt_number": 9
    },
    {
     "cell_type": "code",
     "collapsed": false,
     "input": [
      "s*v"
     ],
     "language": "python",
     "metadata": {},
     "outputs": [
      {
       "ename": "ValueError",
       "evalue": "dimension mismatch",
       "output_type": "pyerr",
       "traceback": [
        "\u001b[0;31m---------------------------------------------------------------------------\u001b[0m\n\u001b[0;31mValueError\u001b[0m                                Traceback (most recent call last)",
        "\u001b[0;32m<ipython-input-10-a8c072456df8>\u001b[0m in \u001b[0;36m<module>\u001b[0;34m()\u001b[0m\n\u001b[0;32m----> 1\u001b[0;31m \u001b[0ms\u001b[0m\u001b[0;34m*\u001b[0m\u001b[0mv\u001b[0m\u001b[0;34m\u001b[0m\u001b[0m\n\u001b[0m",
        "\u001b[0;32m/usr/lib/python3/dist-packages/scipy/sparse/base.py\u001b[0m in \u001b[0;36m__mul__\u001b[0;34m(self, other)\u001b[0m\n\u001b[1;32m    353\u001b[0m \u001b[0;34m\u001b[0m\u001b[0m\n\u001b[1;32m    354\u001b[0m             \u001b[0;32mif\u001b[0m \u001b[0mother\u001b[0m\u001b[0;34m.\u001b[0m\u001b[0mshape\u001b[0m\u001b[0;34m[\u001b[0m\u001b[0;36m0\u001b[0m\u001b[0;34m]\u001b[0m \u001b[0;34m!=\u001b[0m \u001b[0mself\u001b[0m\u001b[0;34m.\u001b[0m\u001b[0mshape\u001b[0m\u001b[0;34m[\u001b[0m\u001b[0;36m1\u001b[0m\u001b[0;34m]\u001b[0m\u001b[0;34m:\u001b[0m\u001b[0;34m\u001b[0m\u001b[0m\n\u001b[0;32m--> 355\u001b[0;31m                 \u001b[0;32mraise\u001b[0m \u001b[0mValueError\u001b[0m\u001b[0;34m(\u001b[0m\u001b[0;34m'dimension mismatch'\u001b[0m\u001b[0;34m)\u001b[0m\u001b[0;34m\u001b[0m\u001b[0m\n\u001b[0m\u001b[1;32m    356\u001b[0m \u001b[0;34m\u001b[0m\u001b[0m\n\u001b[1;32m    357\u001b[0m             \u001b[0mresult\u001b[0m \u001b[0;34m=\u001b[0m \u001b[0mself\u001b[0m\u001b[0;34m.\u001b[0m\u001b[0m_mul_multivector\u001b[0m\u001b[0;34m(\u001b[0m\u001b[0mnp\u001b[0m\u001b[0;34m.\u001b[0m\u001b[0masarray\u001b[0m\u001b[0;34m(\u001b[0m\u001b[0mother\u001b[0m\u001b[0;34m)\u001b[0m\u001b[0;34m)\u001b[0m\u001b[0;34m\u001b[0m\u001b[0m\n",
        "\u001b[0;31mValueError\u001b[0m: dimension mismatch"
       ]
      }
     ],
     "prompt_number": 10
    },
    {
     "cell_type": "code",
     "collapsed": false,
     "input": [
      "v*s"
     ],
     "language": "python",
     "metadata": {},
     "outputs": [
      {
       "metadata": {},
       "output_type": "pyout",
       "prompt_number": 8,
       "text": [
        "array([ 3,  3, 10], dtype=int64)"
       ]
      }
     ],
     "prompt_number": 8
    },
    {
     "cell_type": "code",
     "collapsed": false,
     "input": [],
     "language": "python",
     "metadata": {},
     "outputs": []
    }
   ],
   "metadata": {}
  }
 ]
}